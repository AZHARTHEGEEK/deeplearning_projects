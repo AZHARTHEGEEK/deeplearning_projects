{
 "cells": [
  {
   "cell_type": "markdown",
   "metadata": {},
   "source": [
    "# **MNIST -Fashion**"
   ]
  },
  {
   "cell_type": "code",
   "execution_count": 6,
   "metadata": {},
   "outputs": [],
   "source": [
    "import tensorflow as tf         \n",
    "mnist = tf.keras.datasets.fashion_mnist            # 0 t0 9 classes\n",
    "\n",
    "#load data\n",
    "(training_images, training_labels), (test_images, test_labels) = mnist.load_data() #60000 #10000\n",
    "  #1                #2                         #1  #2                  \n",
    "training_images  = training_images / 255.0      #numbers\n",
    "test_images = test_images / 255.0               #numbers to 0 to 1 ##normalize"
   ]
  },
  {
   "cell_type": "code",
   "execution_count": 7,
   "metadata": {},
   "outputs": [],
   "source": [
    "#initializing model\n",
    "\n",
    "model = tf.keras.models.Sequential([tf.keras.layers.Flatten(),\n",
    "                                   tf.keras.layers.Dense(512,activation=\"relu\"), \n",
    "#OR activation=tf.nn.relu #densely connected #relu return the  greater than 1 value and less than and equal to zero take as 0\n",
    "                                   tf.keras.layers.Dense(10,activation=\"softmax\")])\n",
    "#OR activation=tf.nn.softmax  #softmax function for multiclassification  #softmax return probability of all value by summing them and and take the most common number to return the probability"
   ]
  },
  {
   "cell_type": "code",
   "execution_count": 8,
   "metadata": {},
   "outputs": [],
   "source": [
    "#complilatiomn of model\n",
    "\n",
    "model.compile(optimizer = tf.keras.optimizers.Adam(), \n",
    "              loss = 'sparse_categorical_crossentropy', #multiclassification problem\n",
    "              metrics = ['accuracy'])"
   ]
  },
  {
   "cell_type": "code",
   "execution_count": 9,
   "metadata": {},
   "outputs": [
    {
     "name": "stdout",
     "output_type": "stream",
     "text": [
      "Train on 60000 samples\n",
      "Epoch 1/5\n",
      "60000/60000 [==============================] - 5s 81us/sample - loss: 0.5062 - accuracy: 0.8226\n",
      "Epoch 2/5\n",
      "60000/60000 [==============================] - 4s 69us/sample - loss: 0.3706 - accuracy: 0.8670\n",
      "Epoch 3/5\n",
      "60000/60000 [==============================] - 4s 73us/sample - loss: 0.3330 - accuracy: 0.8783\n",
      "Epoch 4/5\n",
      "60000/60000 [==============================] - 4s 71us/sample - loss: 0.3091 - accuracy: 0.8859\n",
      "Epoch 5/5\n",
      "60000/60000 [==============================] - 4s 68us/sample - loss: 0.2834 - accuracy: 0.8960\n"
     ]
    },
    {
     "data": {
      "text/plain": [
       "<tensorflow.python.keras.callbacks.History at 0x2c86a54b48>"
      ]
     },
     "execution_count": 9,
     "metadata": {},
     "output_type": "execute_result"
    }
   ],
   "source": [
    "#training model\n",
    "\n",
    "model.fit(training_images, training_labels, epochs=5, batch_size=128)"
   ]
  },
  {
   "cell_type": "markdown",
   "metadata": {},
   "source": [
    "###### value on training data loss: 0.2834 - accuracy: 0.8960"
   ]
  },
  {
   "cell_type": "code",
   "execution_count": 11,
   "metadata": {},
   "outputs": [],
   "source": [
    "#evalute data \n",
    "#unseen data\n",
    "\n",
    "# print(model.evaluate(test_images, test_labels))"
   ]
  },
  {
   "cell_type": "markdown",
   "metadata": {},
   "source": [
    "### value on unseen data loss: 0.2729 - accuracy: 0.8808"
   ]
  },
  {
   "cell_type": "code",
   "execution_count": 12,
   "metadata": {},
   "outputs": [],
   "source": [
    "#Done"
   ]
  },
  {
   "cell_type": "markdown",
   "metadata": {},
   "source": [
    "\n",
    "ATG"
   ]
  }
 ],
 "metadata": {
  "kernelspec": {
   "display_name": "Python 3",
   "language": "python",
   "name": "python3"
  },
  "language_info": {
   "codemirror_mode": {
    "name": "ipython",
    "version": 3
   },
   "file_extension": ".py",
   "mimetype": "text/x-python",
   "name": "python",
   "nbconvert_exporter": "python",
   "pygments_lexer": "ipython3",
   "version": "3.7.4"
  }
 },
 "nbformat": 4,
 "nbformat_minor": 2
}
